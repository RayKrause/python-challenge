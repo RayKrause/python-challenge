{
 "cells": [
  {
   "cell_type": "code",
   "execution_count": 44,
   "id": "df571afb-6324-45d0-adbc-980ed6b673fc",
   "metadata": {
    "tags": []
   },
   "outputs": [],
   "source": [
    "# This Python script will analyzes the records to calculate each of the following:\n",
    "# - The total number of months included in the dataset.\n",
    "# - The net total amount of Profit/Losses over the entire period.\n",
    "# - The average of the changes in Profit/Losses over the entire period.\n",
    "# - The greatest increase in profits (date and amount) over the entire period.\n",
    "# - The greatest decrease in losses (date and amount) over the entire period."
   ]
  },
  {
   "cell_type": "code",
   "execution_count": 45,
   "id": "89ca65d8-dc33-4dcd-82e2-23b7a5b3e052",
   "metadata": {
    "tags": []
   },
   "outputs": [],
   "source": [
    "# import libraries, pathlib allows you to iterate over that directory's content\n",
    "from pathlib import Path"
   ]
  },
  {
   "cell_type": "code",
   "execution_count": 46,
   "id": "56c9e089-704f-4bff-9482-18a0eb65bb9f",
   "metadata": {
    "tags": []
   },
   "outputs": [],
   "source": [
    "# Imports the CSV module\n",
    "import csv"
   ]
  },
  {
   "cell_type": "code",
   "execution_count": 47,
   "id": "a5117c8e-4d51-453e-ac3b-8027686a07fb",
   "metadata": {},
   "outputs": [],
   "source": [
    "# Set the path to the csv file\n",
    "budget_csv = Path(\"budget_data.csv\")"
   ]
  },
  {
   "cell_type": "code",
   "execution_count": 48,
   "id": "7571f94a-b9a4-45bd-9593-c4551f66f7ad",
   "metadata": {
    "tags": []
   },
   "outputs": [],
   "source": [
    "# create empty lists to iterate through rows\n",
    "profit_loss_dates = []\n",
    "profit_loss = []\n",
    "profit_loss_change = []\n",
    "# Set variables\n",
    "min_profit_loss = 0\n",
    "max_profit_loss = 0"
   ]
  },
  {
   "cell_type": "code",
   "execution_count": 49,
   "id": "dde33f61-e691-4f7e-a4f3-42af7cf2e8f8",
   "metadata": {},
   "outputs": [],
   "source": [
    "# open input path as file object \n",
    "with open(budget_csv, 'r') as csvfile:\n",
    "    # pass the object to a csv.reader()\n",
    "    csv_reader = csv.reader(csvfile, delimiter = ',')\n",
    "    # Skip the header and iterate through the first row by 1\n",
    "    header = next(csv_reader)\n",
    "    # print (header)\n",
    "    # the for loop is to iterate through rows in the stored file contents\n",
    "    for row in csv_reader:\n",
    "        # Appends the total months/dates as well as total profit to their corresponding lists\n",
    "        profit_loss_dates.append(row[0])\n",
    "        profit_loss.append(int(row[1]))"
   ]
  },
  {
   "cell_type": "code",
   "execution_count": 50,
   "id": "e721a31e-63f2-4ed5-88ed-333debf70db3",
   "metadata": {},
   "outputs": [],
   "source": [
    "# Iterate through the profit_loss in order to get the monthly change in profits\n",
    "for i in range(len(profit_loss)-1):\n",
    "    # Take the differences between months and append to monthly profit loss profit change\n",
    "    profit_loss_change.append(profit_loss[i+1]-profit_loss[i])"
   ]
  },
  {
   "cell_type": "code",
   "execution_count": 51,
   "id": "a1a451ba-ff42-4625-bf41-e2c32c759213",
   "metadata": {},
   "outputs": [],
   "source": [
    "# get the min and max of the monthly profit loss change\n",
    "max_increase_profit_loss = max(profit_loss_change)\n",
    "max_decrease_profit_loss = min(profit_loss_change)"
   ]
  },
  {
   "cell_type": "code",
   "execution_count": 52,
   "id": "64e5c8d9-3431-4161-be91-78b4b9c63951",
   "metadata": {},
   "outputs": [],
   "source": [
    "# Correlate min and max to the proper date using profit loss list and index from max and min\n",
    "# plus 1 at the end since month associated with change is the next month\n",
    "max_increase_date = profit_loss_change.index(max(profit_loss_change)) + 1\n",
    "max_decrease_date = profit_loss_change.index(min(profit_loss_change)) + 1"
   ]
  },
  {
   "cell_type": "code",
   "execution_count": 53,
   "id": "a816c105-5b3a-4c48-9c31-4c0124c4e942",
   "metadata": {},
   "outputs": [],
   "source": [
    "# Calculate the average\n",
    "average_change_profitloss = round(sum(profit_loss_change)/len(profit_loss_change), 2)"
   ]
  },
  {
   "cell_type": "code",
   "execution_count": 54,
   "id": "05fe7cd0-6f39-44e7-b984-7eb90e045226",
   "metadata": {},
   "outputs": [
    {
     "name": "stdout",
     "output_type": "stream",
     "text": [
      "\u001b[1m~~~~~~~~~~~~~~~~~~~~~~~~~~~~~~~~~~~~~~~~~~~~~~~~~~\u001b[0m\n",
      "\u001b[1mFinancial Analysis\u001b[0m\n",
      "\u001b[1m~~~~~~~~~~~~~~~~~~~~~~~~~~~~~~~~~~~~~~~~~~~~~~~~~~\u001b[0m\n",
      "Total Months: 86\n",
      "Total: $38382578\n",
      "Average Change: -2315.12\n",
      "Greatest Increase in Profits: Feb-2012 ($1926159)\n",
      "Greatest Decrease in Profits: Sep-2013 ($-2196167)\n",
      "\u001b[1m~~~~~~~~~~~~~~~~~~~~~~~~~~~~~~~~~~~~~~~~~~~~~~~~~~\u001b[0m\n"
     ]
    }
   ],
   "source": [
    "# Prints the Financial Analysis data to the screen\n",
    "# The command print('\\033[1m' + 'Text' + '\\033[0m') prints the text in BOLD\n",
    "print(f'\\033[1m' + '~~~~~~~~~~~~~~~~~~~~~~~~~~~~~~~~~~~~~~~~~~~~~~~~~~' + '\\033[0m')\n",
    "print(f'\\033[1m' + 'Financial Analysis' + '\\033[0m')\n",
    "print(f'\\033[1m' + '~~~~~~~~~~~~~~~~~~~~~~~~~~~~~~~~~~~~~~~~~~~~~~~~~~' + '\\033[0m')\n",
    "print(f\"Total Months: {len(profit_loss_dates)}\")\n",
    "print(f\"Total: ${sum(profit_loss)}\")\n",
    "print(f\"Average Change: {round(sum(profit_loss_change)/len(profit_loss_change),2)}\")\n",
    "print(f\"Greatest Increase in Profits: {profit_loss_dates[max_increase_date]} (${(str(max_increase_profit_loss))})\")\n",
    "print(f\"Greatest Decrease in Profits: {profit_loss_dates[max_decrease_date]} (${(str(max_decrease_profit_loss))})\")\n",
    "print(f'\\033[1m' + '~~~~~~~~~~~~~~~~~~~~~~~~~~~~~~~~~~~~~~~~~~~~~~~~~~' + '\\033[0m')"
   ]
  },
  {
   "cell_type": "code",
   "execution_count": 55,
   "id": "bd997b91-02e9-456e-98c7-4c6d37f02d8e",
   "metadata": {},
   "outputs": [],
   "source": [
    "# Creates a Financial Analysis file in text format\n",
    "with open('financial_analysis.txt', 'w') as text:\n",
    "    text.write(\"~~~~~~~~~~~~~~~~~~~~~~~~~~~~~~~~~~~~~~~~~~~~~~~~~~~\")\n",
    "    text.write(\"\\n\"\"Financial Analysis\")\n",
    "    text.write(\"\\n\"\"~~~~~~~~~~~~~~~~~~~~~~~~~~~~~~~~~~~~~~~~~~~~~~~~~~~\")\n",
    "    text.write(\"\\n\")\n",
    "    text.write(f\"Total Months: \" + str(len(profit_loss_dates)))\n",
    "    text.write(\"\\n\")\n",
    "    text.write(f\"Total: ${sum(profit_loss)}\")\n",
    "    text.write(\"\\n\")\n",
    "    text.write(f\"Average Change: \" + '$' + str(float(average_change_profitloss)))\n",
    "    text.write(\"\\n\")\n",
    "    text.write(f\"Greatest Increase in Profits: {profit_loss_dates[max_increase_date]} (${(str(max_increase_profit_loss))})\")\n",
    "    text.write(\"\\n\")\n",
    "    text.write(f\"Greatest Decrease in Profits: {profit_loss_dates[max_decrease_date]} (${(str(max_decrease_profit_loss))})\")\n",
    "    text.write(\"\\n\")\n",
    "    text.write(f\"~~~~~~~~~~~~~~~~~~~~~~~~~~~~~~~~~~~~~~~~~~~~~~~~~~~\")"
   ]
  },
  {
   "cell_type": "code",
   "execution_count": null,
   "id": "34f6768b-60b2-4e2d-9172-24110212da30",
   "metadata": {},
   "outputs": [],
   "source": []
  }
 ],
 "metadata": {
  "kernelspec": {
   "display_name": "Python 3 (ipykernel)",
   "language": "python",
   "name": "python3"
  },
  "language_info": {
   "codemirror_mode": {
    "name": "ipython",
    "version": 3
   },
   "file_extension": ".py",
   "mimetype": "text/x-python",
   "name": "python",
   "nbconvert_exporter": "python",
   "pygments_lexer": "ipython3",
   "version": "3.7.13"
  }
 },
 "nbformat": 4,
 "nbformat_minor": 5
}
