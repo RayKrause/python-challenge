{
 "cells": [
  {
   "cell_type": "code",
   "execution_count": 277,
   "id": "df571afb-6324-45d0-adbc-980ed6b673fc",
   "metadata": {
    "tags": []
   },
   "outputs": [],
   "source": [
    "# This Python script will analyzes the records to calculate each of the following:\n",
    "# - The total number of months included in the dataset.\n",
    "# - The net total amount of Profit/Losses over the entire period.\n",
    "# - The average of the changes in Profit/Losses over the entire period.\n",
    "# - The greatest increase in profits (date and amount) over the entire period.\n",
    "# - The greatest decrease in losses (date and amount) over the entire period."
   ]
  },
  {
   "cell_type": "code",
   "execution_count": 278,
   "id": "89ca65d8-dc33-4dcd-82e2-23b7a5b3e052",
   "metadata": {
    "tags": []
   },
   "outputs": [],
   "source": [
    "# pathlib allows you to iterate over that directory's content\n",
    "from pathlib import Path"
   ]
  },
  {
   "cell_type": "code",
   "execution_count": 279,
   "id": "56c9e089-704f-4bff-9482-18a0eb65bb9f",
   "metadata": {
    "tags": []
   },
   "outputs": [],
   "source": [
    "# Imports the CSV module\n",
    "import csv"
   ]
  },
  {
   "cell_type": "code",
   "execution_count": 280,
   "id": "a5117c8e-4d51-453e-ac3b-8027686a07fb",
   "metadata": {},
   "outputs": [],
   "source": [
    "# Set the path to the csv file\n",
    "budget_csv = Path(\"budget_data.csv\")"
   ]
  },
  {
   "cell_type": "code",
   "execution_count": 281,
   "id": "7571f94a-b9a4-45bd-9593-c4551f66f7ad",
   "metadata": {
    "tags": []
   },
   "outputs": [],
   "source": [
    "# create lists\n",
    "profit_loss_dates = []\n",
    "profit_loss = []\n",
    "profit_loss_change = []\n",
    "# Set variables\n",
    "profit_loss_sum = 0\n",
    "PnL = 0\n",
    "min_profit_loss = 0\n",
    "max_profit_loss = 0"
   ]
  },
  {
   "cell_type": "code",
   "execution_count": 282,
   "id": "dde33f61-e691-4f7e-a4f3-42af7cf2e8f8",
   "metadata": {},
   "outputs": [],
   "source": [
    "with open(budget_csv, 'r') as csvfile:\n",
    "    csv_reader = csv.reader(csvfile, delimiter = ',')\n",
    "    header = next(csv_reader)\n",
    "    for row in csv_reader:\n",
    "        profit_loss.append(int(row[1]))\n",
    "        profit_loss_sum += int(row[1])\n",
    "        profit_loss_dates.append(row[0])"
   ]
  },
  {
   "cell_type": "code",
   "execution_count": 283,
   "id": "2be2e363-e91a-402c-b5d8-a813f9d12d67",
   "metadata": {},
   "outputs": [],
   "source": [
    "for i in range(1, len(profit_loss)):\n",
    "    x = profit_loss[i] - profit_loss[i - 1]\n",
    "    profit_loss_change.append(int(x))"
   ]
  },
  {
   "cell_type": "code",
   "execution_count": 284,
   "id": "a816c105-5b3a-4c48-9c31-4c0124c4e942",
   "metadata": {},
   "outputs": [],
   "source": [
    "# Calculate the average\n",
    "average_change_profitloss = round(sum(profit_loss_change)/len(profit_loss_change), 2)"
   ]
  },
  {
   "cell_type": "code",
   "execution_count": 285,
   "id": "77356cfd-4aab-41e9-a847-b647f7734551",
   "metadata": {},
   "outputs": [],
   "source": [
    "for PnL in profit_loss:\n",
    "    if PnL > max_profit_loss:\n",
    "        max_profit_loss = PnL\n",
    "    elif PnL < min_profit_loss:\n",
    "        min_profit_loss = PnL"
   ]
  },
  {
   "cell_type": "code",
   "execution_count": 286,
   "id": "84d77a74-3c45-4e92-b50f-3351af47fb80",
   "metadata": {},
   "outputs": [],
   "source": [
    "min_profit_loss_index = profit_loss.index(min_profit_loss)\n",
    "max_profit_loss_index = profit_loss.index(max_profit_loss)\n",
    "min_profit_loss_date = profit_loss_dates[min_profit_loss_index]\n",
    "max_profit_loss_date = profit_loss_dates[max_profit_loss_index]"
   ]
  },
  {
   "cell_type": "code",
   "execution_count": 287,
   "id": "05fe7cd0-6f39-44e7-b984-7eb90e045226",
   "metadata": {},
   "outputs": [
    {
     "name": "stdout",
     "output_type": "stream",
     "text": [
      "\u001b[1m~~~~~~~~~~~~~~~~~~~~~~~~~~~~~~~~~~~~~~~~~~~~~~~~~~\u001b[0m\n",
      "\u001b[1mFinancial Analysis\u001b[0m\n",
      "\u001b[1m~~~~~~~~~~~~~~~~~~~~~~~~~~~~~~~~~~~~~~~~~~~~~~~~~~\u001b[0m\n",
      "Total Months: 86\n",
      "Total: 38382578\n",
      "Average Change: -2315.12\n",
      "Greatest Increase in Profits: 1170593 on Feb-2012\n",
      "Greatest Decrease in Profits: -1196225 on Sep-2013\n",
      "\u001b[1m~~~~~~~~~~~~~~~~~~~~~~~~~~~~~~~~~~~~~~~~~~~~~~~~~~\u001b[0m\n"
     ]
    }
   ],
   "source": [
    "# Prints the Financial Analysis data to the screen\n",
    "# The command print('\\033[1m' + 'Text' + '\\033[0m') prints the text in BOLD\n",
    "print(f'\\033[1m' + '~~~~~~~~~~~~~~~~~~~~~~~~~~~~~~~~~~~~~~~~~~~~~~~~~~' + '\\033[0m')\n",
    "print(f'\\033[1m' + 'Financial Analysis' + '\\033[0m')\n",
    "print(f'\\033[1m' + '~~~~~~~~~~~~~~~~~~~~~~~~~~~~~~~~~~~~~~~~~~~~~~~~~~' + '\\033[0m')\n",
    "print(f\"Total Months: {len(profit_loss_dates)}\")\n",
    "print(f\"Total: {profit_loss_sum}\")\n",
    "print(f\"Average Change: {average_change_profitloss}\")\n",
    "print(f\"Greatest Increase in Profits: {max_profit_loss} on {max_profit_loss_date}\")\n",
    "print(f\"Greatest Decrease in Profits: {min_profit_loss} on {min_profit_loss_date}\")\n",
    "print(f'\\033[1m' + '~~~~~~~~~~~~~~~~~~~~~~~~~~~~~~~~~~~~~~~~~~~~~~~~~~' + '\\033[0m')"
   ]
  },
  {
   "cell_type": "code",
   "execution_count": 288,
   "id": "15bf52dc-a5fa-4f8d-a7bf-e81f7f48c4ef",
   "metadata": {},
   "outputs": [],
   "source": [
    "# Creates a Financial Analysis file in text format\n",
    "with open('financial_analysis.txt', 'w') as text:\n",
    "    text.write(\"~~~~~~~~~~~~~~~~~~~~~~~~~~~~~~~~~~~~~~~~~~~~~~~~~~~\")\n",
    "    text.write(\"\\n\"\"Financial Analysis\")\n",
    "    text.write(\"\\n\"\"~~~~~~~~~~~~~~~~~~~~~~~~~~~~~~~~~~~~~~~~~~~~~~~~~~~\")\n",
    "    text.write(\"\\n\"\"Total Months: \" + str(len(profit_loss_dates)))\n",
    "    text.write(\"\\n\"\"Total Profits: \" + \"$\" + str(profit_loss_sum))\n",
    "    text.write(\"\\n\"\"Average Change: \" + '$' + str(float(average_change_profitloss)))\n",
    "    text.write(\"\\n\"\"Greatest Increase in Profits: \" + str(max_profit_loss_date) + \" ($\" + str(max_profit_loss) + \")\")\n",
    "    text.write(\"\\n\"\"Greatest Decrease in Profits: \" + str(min_profit_loss_date) + \" ($\" + str(min_profit_loss) + \")\")\n",
    "    text.write(\"\\n\"\"~~~~~~~~~~~~~~~~~~~~~~~~~~~~~~~~~~~~~~~~~~~~~~~~~~~\")"
   ]
  },
  {
   "cell_type": "code",
   "execution_count": null,
   "id": "53bf11be-f898-46a4-9016-25faecc77b40",
   "metadata": {},
   "outputs": [],
   "source": []
  }
 ],
 "metadata": {
  "kernelspec": {
   "display_name": "Python 3 (ipykernel)",
   "language": "python",
   "name": "python3"
  },
  "language_info": {
   "codemirror_mode": {
    "name": "ipython",
    "version": 3
   },
   "file_extension": ".py",
   "mimetype": "text/x-python",
   "name": "python",
   "nbconvert_exporter": "python",
   "pygments_lexer": "ipython3",
   "version": "3.7.13"
  }
 },
 "nbformat": 4,
 "nbformat_minor": 5
}
