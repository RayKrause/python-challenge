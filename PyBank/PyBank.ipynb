{
 "cells": [
  {
   "cell_type": "code",
   "execution_count": 134,
   "id": "8cacf9cb-82a5-4e2b-9020-072251360066",
   "metadata": {},
   "outputs": [],
   "source": [
    "from pathlib import Path"
   ]
  },
  {
   "cell_type": "code",
   "execution_count": 135,
   "id": "892fc046-3f67-49b4-89f6-2f682695d75b",
   "metadata": {},
   "outputs": [],
   "source": [
    "import csv"
   ]
  },
  {
   "cell_type": "code",
   "execution_count": 136,
   "id": "79445db8-236d-4a7f-95d0-91df1ac6896e",
   "metadata": {},
   "outputs": [],
   "source": [
    "budget_csv = Path(\"budget_data.csv\")"
   ]
  },
  {
   "cell_type": "code",
   "execution_count": 137,
   "id": "7abaaccb-cea0-4a9c-b7e3-920621ffca92",
   "metadata": {},
   "outputs": [],
   "source": [
    "profit_loss = []"
   ]
  },
  {
   "cell_type": "code",
   "execution_count": 138,
   "id": "93a7695e-3650-4855-bf18-069bedf7982d",
   "metadata": {},
   "outputs": [],
   "source": [
    "profit_loss_dates = []"
   ]
  },
  {
   "cell_type": "code",
   "execution_count": 139,
   "id": "f674f3d9-321e-4560-bde5-3360b9f6dc66",
   "metadata": {},
   "outputs": [],
   "source": [
    "profit_loss_sum = 0"
   ]
  },
  {
   "cell_type": "code",
   "execution_count": 140,
   "id": "989ed5c6-050a-49a3-ad58-f545a77634c3",
   "metadata": {},
   "outputs": [],
   "source": [
    "max_pl = 0"
   ]
  },
  {
   "cell_type": "code",
   "execution_count": 141,
   "id": "2bf99afc-0959-4991-8506-04f6a1b2b6a2",
   "metadata": {},
   "outputs": [],
   "source": [
    "min_pl = 0"
   ]
  },
  {
   "cell_type": "code",
   "execution_count": 142,
   "id": "a9cffdfe-9e0f-4287-a63c-1e0b01792c17",
   "metadata": {},
   "outputs": [],
   "source": [
    "with open(budget_csv, 'r') as csvfile:\n",
    "    csv_reader = csv.reader(csvfile, delimiter = ',')\n",
    "    header = next(csv_reader)\n",
    "    for row in csv_reader:\n",
    "        profit_loss.append(int(row[1]))\n",
    "        profit_loss_sum += int(row[1])\n",
    "        profit_loss_dates.append(row[0])"
   ]
  },
  {
   "cell_type": "code",
   "execution_count": 143,
   "id": "4bf7bc15-2594-4ac6-9d51-40c6412ad820",
   "metadata": {},
   "outputs": [],
   "source": [
    "profit_loss_change = []"
   ]
  },
  {
   "cell_type": "code",
   "execution_count": 144,
   "id": "45224e20-c1d9-42fb-96b0-c8233b3b754b",
   "metadata": {},
   "outputs": [],
   "source": [
    "for i in range(1, len(profit_loss)):\n",
    "    x = profit_loss[i] - profit_loss[i - 1]\n",
    "    profit_loss_change.append(int(x))"
   ]
  },
  {
   "cell_type": "code",
   "execution_count": 145,
   "id": "ab572dd4-2e17-4693-b26a-0202c7624583",
   "metadata": {},
   "outputs": [],
   "source": [
    "average_change_profitloss = round(sum(profit_loss_change)/len(profit_loss_change), 2)"
   ]
  },
  {
   "cell_type": "code",
   "execution_count": 146,
   "id": "ec2966b2-7465-4fb1-a704-e21a9ea077d7",
   "metadata": {},
   "outputs": [],
   "source": [
    "max_pl = 0\n",
    "min_pl = 0\n",
    "for prof_loss in profit_loss:\n",
    "    if prof_loss > max_pl:\n",
    "        max_pl = prof_loss\n",
    "    elif prof_loss < min_pl:\n",
    "        min_pl = prof_loss"
   ]
  },
  {
   "cell_type": "code",
   "execution_count": 147,
   "id": "37d1f07a-dfe7-4ee4-9f2a-c2279eb1afed",
   "metadata": {},
   "outputs": [],
   "source": [
    "max_pl_index = profit_loss.index(max_pl)\n",
    "min_pl_index = profit_loss.index(min_pl)\n",
    "max_pl_date = profit_loss_dates[max_pl_index]\n",
    "min_pl_date = profit_loss_dates[min_pl_index]"
   ]
  },
  {
   "cell_type": "code",
   "execution_count": 148,
   "id": "ddcfa131-bc2e-455f-950b-f003be6daf22",
   "metadata": {},
   "outputs": [
    {
     "name": "stdout",
     "output_type": "stream",
     "text": [
      "Financial Analysis\n",
      "----------------------------\n",
      "Total Months: 86\n",
      "Total: 38382578\n",
      "Average Change: -2315.12\n",
      "Greatest Increase in Profits: 1170593 on Feb-2012\n",
      "Greatest Decrease in Profits: -1196225 on Sep-2013\n"
     ]
    }
   ],
   "source": [
    "print(f\"Financial Analysis\")\n",
    "print(f\"----------------------------\")\n",
    "print(f\"Total Months: {len(profit_loss_dates)}\")\n",
    "print(f\"Total: {profit_loss_sum}\")\n",
    "print(f\"Average Change: {average_change_profitloss}\")\n",
    "print(f\"Greatest Increase in Profits: {max_pl} on {max_pl_date}\")\n",
    "print(f\"Greatest Decrease in Profits: {min_pl} on {min_pl_date}\")"
   ]
  },
  {
   "cell_type": "code",
   "execution_count": 149,
   "id": "d1a841a8-d52c-4dc5-9245-ca7b158a9664",
   "metadata": {},
   "outputs": [],
   "source": [
    "with open('financial_analysis.txt', 'w') as text:\n",
    "    text.write(\"----------------------------------------------------------\\n\")\n",
    "    text.write(\"  Financial Analysis\"+ \"\\n\")\n",
    "    text.write(\"----------------------------------------------------------\\n\")\n",
    "    text.write(\"    Total Months: \" + str(len(profit_loss_dates)) + \"\\n\")\n",
    "    text.write(\"    Total Profits: \" + \"$\" + str(profit_loss_sum) +\"\\n\")\n",
    "    text.write(\"    Average Change: \" + '$' + str(int(average_change_profitloss)) + \"\\n\")\n",
    "    text.write(\"    Greatest Increase in Profits: \" + str(max_pl_date) + \" ($\" + str(max_pl) + \")\\n\")\n",
    "    text.write(\"    Greatest Decrease in Profits: \" + str(min_pl_date) + \" ($\" + str(min_pl) + \")\\n\")\n",
    "    text.write(\"----------------------------------------------------------\\n\")"
   ]
  },
  {
   "cell_type": "code",
   "execution_count": null,
   "id": "d6faa96f-ab71-4f1c-b0ac-5b8c1e7a8ade",
   "metadata": {},
   "outputs": [],
   "source": []
  }
 ],
 "metadata": {
  "kernelspec": {
   "display_name": "Python 3 (ipykernel)",
   "language": "python",
   "name": "python3"
  },
  "language_info": {
   "codemirror_mode": {
    "name": "ipython",
    "version": 3
   },
   "file_extension": ".py",
   "mimetype": "text/x-python",
   "name": "python",
   "nbconvert_exporter": "python",
   "pygments_lexer": "ipython3",
   "version": "3.7.13"
  }
 },
 "nbformat": 4,
 "nbformat_minor": 5
}
